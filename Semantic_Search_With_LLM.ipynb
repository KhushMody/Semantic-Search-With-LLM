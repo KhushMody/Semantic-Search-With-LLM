{
  "cells": [
    {
      "cell_type": "code",
      "execution_count": 3,
      "metadata": {
        "colab": {
          "base_uri": "https://localhost:8080/"
        },
        "id": "Ar27GyWMAFcJ",
        "outputId": "af6163eb-be00-4a88-e98a-36c73e27f727"
      },
      "outputs": [
        {
          "name": "stdout",
          "output_type": "stream",
          "text": [
            "Defaulting to user installation because normal site-packages is not writeable\n",
            "Requirement already satisfied: cohere in c:\\users\\khush\\appdata\\roaming\\python\\python310\\site-packages (4.47)\n",
            "Requirement already satisfied: backoff<3.0,>=2.0 in c:\\users\\khush\\appdata\\roaming\\python\\python310\\site-packages (from cohere) (2.2.1)\n",
            "Requirement already satisfied: fastavro<2.0,>=1.8 in c:\\users\\khush\\appdata\\roaming\\python\\python310\\site-packages (from cohere) (1.9.4)\n",
            "Requirement already satisfied: urllib3<3,>=1.26 in c:\\users\\khush\\appdata\\roaming\\python\\python310\\site-packages (from cohere) (1.26.7)\n",
            "Requirement already satisfied: requests<3.0.0,>=2.25.0 in c:\\users\\khush\\appdata\\roaming\\python\\python310\\site-packages (from cohere) (2.31.0)\n",
            "Requirement already satisfied: aiohttp<4.0,>=3.0 in c:\\users\\khush\\appdata\\roaming\\python\\python310\\site-packages (from cohere) (3.9.3)\n",
            "Requirement already satisfied: importlib_metadata<7.0,>=6.0 in c:\\users\\khush\\appdata\\roaming\\python\\python310\\site-packages (from cohere) (6.6.0)\n",
            "Requirement already satisfied: frozenlist>=1.1.1 in c:\\users\\khush\\appdata\\roaming\\python\\python310\\site-packages (from aiohttp<4.0,>=3.0->cohere) (1.4.1)\n",
            "Requirement already satisfied: attrs>=17.3.0 in c:\\users\\khush\\appdata\\roaming\\python\\python310\\site-packages (from aiohttp<4.0,>=3.0->cohere) (23.2.0)\n",
            "Requirement already satisfied: multidict<7.0,>=4.5 in c:\\users\\khush\\appdata\\roaming\\python\\python310\\site-packages (from aiohttp<4.0,>=3.0->cohere) (6.0.5)\n",
            "Requirement already satisfied: async-timeout<5.0,>=4.0 in c:\\users\\khush\\appdata\\roaming\\python\\python310\\site-packages (from aiohttp<4.0,>=3.0->cohere) (4.0.3)\n",
            "Requirement already satisfied: yarl<2.0,>=1.0 in c:\\users\\khush\\appdata\\roaming\\python\\python310\\site-packages (from aiohttp<4.0,>=3.0->cohere) (1.9.4)\n",
            "Requirement already satisfied: aiosignal>=1.1.2 in c:\\users\\khush\\appdata\\roaming\\python\\python310\\site-packages (from aiohttp<4.0,>=3.0->cohere) (1.3.1)\n",
            "Requirement already satisfied: zipp>=0.5 in c:\\users\\khush\\appdata\\roaming\\python\\python310\\site-packages (from importlib_metadata<7.0,>=6.0->cohere) (3.15.0)\n",
            "Requirement already satisfied: certifi>=2017.4.17 in c:\\users\\khush\\appdata\\roaming\\python\\python310\\site-packages (from requests<3.0.0,>=2.25.0->cohere) (2021.10.8)\n",
            "Requirement already satisfied: idna<4,>=2.5 in c:\\users\\khush\\appdata\\roaming\\python\\python310\\site-packages (from requests<3.0.0,>=2.25.0->cohere) (3.3)\n",
            "Requirement already satisfied: charset-normalizer<4,>=2 in c:\\users\\khush\\appdata\\roaming\\python\\python310\\site-packages (from requests<3.0.0,>=2.25.0->cohere) (2.0.10)\n"
          ]
        },
        {
          "name": "stderr",
          "output_type": "stream",
          "text": [
            "WARNING: You are using pip version 22.0.4; however, version 24.0 is available.\n",
            "You should consider upgrading via the 'C:\\Program Files\\Python310\\python.exe -m pip install --upgrade pip' command.\n"
          ]
        },
        {
          "name": "stdout",
          "output_type": "stream",
          "text": [
            "Defaulting to user installation because normal site-packages is not writeable\n",
            "Requirement already satisfied: weaviate-client in c:\\users\\khush\\appdata\\roaming\\python\\python310\\site-packages (4.4.4)\n",
            "Requirement already satisfied: Annoy in c:\\users\\khush\\appdata\\roaming\\python\\python310\\site-packages (1.17.3)\n",
            "Requirement already satisfied: authlib<2.0.0,>=1.2.1 in c:\\users\\khush\\appdata\\roaming\\python\\python310\\site-packages (from weaviate-client) (1.3.0)\n",
            "Requirement already satisfied: grpcio-tools<2.0.0,>=1.57.0 in c:\\users\\khush\\appdata\\roaming\\python\\python310\\site-packages (from weaviate-client) (1.60.1)\n",
            "Requirement already satisfied: httpx==0.26.0 in c:\\users\\khush\\appdata\\roaming\\python\\python310\\site-packages (from weaviate-client) (0.26.0)\n",
            "Requirement already satisfied: grpcio-health-checking<2.0.0,>=1.57.0 in c:\\users\\khush\\appdata\\roaming\\python\\python310\\site-packages (from weaviate-client) (1.60.1)\n",
            "Requirement already satisfied: validators==0.22.0 in c:\\users\\khush\\appdata\\roaming\\python\\python310\\site-packages (from weaviate-client) (0.22.0)\n",
            "Requirement already satisfied: grpcio<2.0.0,>=1.57.0 in c:\\users\\khush\\appdata\\roaming\\python\\python310\\site-packages (from weaviate-client) (1.60.1)\n",
            "Requirement already satisfied: pydantic<3.0.0,>=2.5.0 in c:\\users\\khush\\appdata\\roaming\\python\\python310\\site-packages (from weaviate-client) (2.6.1)\n",
            "Requirement already satisfied: requests<3.0.0,>=2.30.0 in c:\\users\\khush\\appdata\\roaming\\python\\python310\\site-packages (from weaviate-client) (2.31.0)\n",
            "Requirement already satisfied: sniffio in c:\\users\\khush\\appdata\\roaming\\python\\python310\\site-packages (from httpx==0.26.0->weaviate-client) (1.2.0)\n",
            "Requirement already satisfied: idna in c:\\users\\khush\\appdata\\roaming\\python\\python310\\site-packages (from httpx==0.26.0->weaviate-client) (3.3)\n",
            "Requirement already satisfied: certifi in c:\\users\\khush\\appdata\\roaming\\python\\python310\\site-packages (from httpx==0.26.0->weaviate-client) (2021.10.8)\n",
            "Requirement already satisfied: anyio in c:\\users\\khush\\appdata\\roaming\\python\\python310\\site-packages (from httpx==0.26.0->weaviate-client) (3.5.0)\n",
            "Requirement already satisfied: httpcore==1.* in c:\\users\\khush\\appdata\\roaming\\python\\python310\\site-packages (from httpx==0.26.0->weaviate-client) (1.0.2)\n",
            "Requirement already satisfied: h11<0.15,>=0.13 in c:\\users\\khush\\appdata\\roaming\\python\\python310\\site-packages (from httpcore==1.*->httpx==0.26.0->weaviate-client) (0.14.0)\n",
            "Requirement already satisfied: cryptography in c:\\users\\khush\\appdata\\roaming\\python\\python310\\site-packages (from authlib<2.0.0,>=1.2.1->weaviate-client) (42.0.2)\n",
            "Requirement already satisfied: protobuf>=4.21.6 in c:\\users\\khush\\appdata\\roaming\\python\\python310\\site-packages (from grpcio-health-checking<2.0.0,>=1.57.0->weaviate-client) (4.23.3)\n",
            "Requirement already satisfied: setuptools in c:\\program files\\python310\\lib\\site-packages (from grpcio-tools<2.0.0,>=1.57.0->weaviate-client) (58.1.0)\n",
            "Requirement already satisfied: typing-extensions>=4.6.1 in c:\\users\\khush\\appdata\\roaming\\python\\python310\\site-packages (from pydantic<3.0.0,>=2.5.0->weaviate-client) (4.9.0)\n",
            "Requirement already satisfied: pydantic-core==2.16.2 in c:\\users\\khush\\appdata\\roaming\\python\\python310\\site-packages (from pydantic<3.0.0,>=2.5.0->weaviate-client) (2.16.2)\n",
            "Requirement already satisfied: annotated-types>=0.4.0 in c:\\users\\khush\\appdata\\roaming\\python\\python310\\site-packages (from pydantic<3.0.0,>=2.5.0->weaviate-client) (0.6.0)\n",
            "Requirement already satisfied: charset-normalizer<4,>=2 in c:\\users\\khush\\appdata\\roaming\\python\\python310\\site-packages (from requests<3.0.0,>=2.30.0->weaviate-client) (2.0.10)\n",
            "Requirement already satisfied: urllib3<3,>=1.21.1 in c:\\users\\khush\\appdata\\roaming\\python\\python310\\site-packages (from requests<3.0.0,>=2.30.0->weaviate-client) (1.26.7)\n",
            "Requirement already satisfied: cffi>=1.12 in c:\\users\\khush\\appdata\\roaming\\python\\python310\\site-packages (from cryptography->authlib<2.0.0,>=1.2.1->weaviate-client) (1.16.0)\n",
            "Requirement already satisfied: pycparser in c:\\users\\khush\\appdata\\roaming\\python\\python310\\site-packages (from cffi>=1.12->cryptography->authlib<2.0.0,>=1.2.1->weaviate-client) (2.21)\n"
          ]
        },
        {
          "name": "stderr",
          "output_type": "stream",
          "text": [
            "WARNING: You are using pip version 22.0.4; however, version 24.0 is available.\n",
            "You should consider upgrading via the 'C:\\Program Files\\Python310\\python.exe -m pip install --upgrade pip' command.\n"
          ]
        },
        {
          "name": "stdout",
          "output_type": "stream",
          "text": [
            "Defaulting to user installation because normal site-packages is not writeable\n",
            "Requirement already satisfied: weaviate-client in c:\\users\\khush\\appdata\\roaming\\python\\python310\\site-packages (4.4.4)\n",
            "Requirement already satisfied: httpx==0.26.0 in c:\\users\\khush\\appdata\\roaming\\python\\python310\\site-packages (from weaviate-client) (0.26.0)\n",
            "Requirement already satisfied: validators==0.22.0 in c:\\users\\khush\\appdata\\roaming\\python\\python310\\site-packages (from weaviate-client) (0.22.0)\n",
            "Requirement already satisfied: pydantic<3.0.0,>=2.5.0 in c:\\users\\khush\\appdata\\roaming\\python\\python310\\site-packages (from weaviate-client) (2.6.1)\n",
            "Requirement already satisfied: authlib<2.0.0,>=1.2.1 in c:\\users\\khush\\appdata\\roaming\\python\\python310\\site-packages (from weaviate-client) (1.3.0)\n",
            "Requirement already satisfied: grpcio-tools<2.0.0,>=1.57.0 in c:\\users\\khush\\appdata\\roaming\\python\\python310\\site-packages (from weaviate-client) (1.60.1)\n",
            "Requirement already satisfied: grpcio<2.0.0,>=1.57.0 in c:\\users\\khush\\appdata\\roaming\\python\\python310\\site-packages (from weaviate-client) (1.60.1)\n",
            "Requirement already satisfied: grpcio-health-checking<2.0.0,>=1.57.0 in c:\\users\\khush\\appdata\\roaming\\python\\python310\\site-packages (from weaviate-client) (1.60.1)\n",
            "Requirement already satisfied: requests<3.0.0,>=2.30.0 in c:\\users\\khush\\appdata\\roaming\\python\\python310\\site-packages (from weaviate-client) (2.31.0)\n",
            "Requirement already satisfied: sniffio in c:\\users\\khush\\appdata\\roaming\\python\\python310\\site-packages (from httpx==0.26.0->weaviate-client) (1.2.0)\n",
            "Requirement already satisfied: certifi in c:\\users\\khush\\appdata\\roaming\\python\\python310\\site-packages (from httpx==0.26.0->weaviate-client) (2021.10.8)\n",
            "Requirement already satisfied: anyio in c:\\users\\khush\\appdata\\roaming\\python\\python310\\site-packages (from httpx==0.26.0->weaviate-client) (3.5.0)\n",
            "Requirement already satisfied: httpcore==1.* in c:\\users\\khush\\appdata\\roaming\\python\\python310\\site-packages (from httpx==0.26.0->weaviate-client) (1.0.2)\n",
            "Requirement already satisfied: idna in c:\\users\\khush\\appdata\\roaming\\python\\python310\\site-packages (from httpx==0.26.0->weaviate-client) (3.3)\n",
            "Requirement already satisfied: h11<0.15,>=0.13 in c:\\users\\khush\\appdata\\roaming\\python\\python310\\site-packages (from httpcore==1.*->httpx==0.26.0->weaviate-client) (0.14.0)\n",
            "Requirement already satisfied: cryptography in c:\\users\\khush\\appdata\\roaming\\python\\python310\\site-packages (from authlib<2.0.0,>=1.2.1->weaviate-client) (42.0.2)\n",
            "Requirement already satisfied: protobuf>=4.21.6 in c:\\users\\khush\\appdata\\roaming\\python\\python310\\site-packages (from grpcio-health-checking<2.0.0,>=1.57.0->weaviate-client) (4.23.3)\n",
            "Requirement already satisfied: setuptools in c:\\program files\\python310\\lib\\site-packages (from grpcio-tools<2.0.0,>=1.57.0->weaviate-client) (58.1.0)\n",
            "Requirement already satisfied: typing-extensions>=4.6.1 in c:\\users\\khush\\appdata\\roaming\\python\\python310\\site-packages (from pydantic<3.0.0,>=2.5.0->weaviate-client) (4.9.0)\n",
            "Requirement already satisfied: pydantic-core==2.16.2 in c:\\users\\khush\\appdata\\roaming\\python\\python310\\site-packages (from pydantic<3.0.0,>=2.5.0->weaviate-client) (2.16.2)\n",
            "Requirement already satisfied: annotated-types>=0.4.0 in c:\\users\\khush\\appdata\\roaming\\python\\python310\\site-packages (from pydantic<3.0.0,>=2.5.0->weaviate-client) (0.6.0)\n",
            "Requirement already satisfied: urllib3<3,>=1.21.1 in c:\\users\\khush\\appdata\\roaming\\python\\python310\\site-packages (from requests<3.0.0,>=2.30.0->weaviate-client) (1.26.7)\n",
            "Requirement already satisfied: charset-normalizer<4,>=2 in c:\\users\\khush\\appdata\\roaming\\python\\python310\\site-packages (from requests<3.0.0,>=2.30.0->weaviate-client) (2.0.10)\n",
            "Requirement already satisfied: cffi>=1.12 in c:\\users\\khush\\appdata\\roaming\\python\\python310\\site-packages (from cryptography->authlib<2.0.0,>=1.2.1->weaviate-client) (1.16.0)\n",
            "Requirement already satisfied: pycparser in c:\\users\\khush\\appdata\\roaming\\python\\python310\\site-packages (from cffi>=1.12->cryptography->authlib<2.0.0,>=1.2.1->weaviate-client) (2.21)\n"
          ]
        },
        {
          "name": "stderr",
          "output_type": "stream",
          "text": [
            "WARNING: You are using pip version 22.0.4; however, version 24.0 is available.\n",
            "You should consider upgrading via the 'C:\\Program Files\\Python310\\python.exe -m pip install --upgrade pip' command.\n"
          ]
        },
        {
          "name": "stdout",
          "output_type": "stream",
          "text": [
            "Defaulting to user installation because normal site-packages is not writeable\n",
            "Collecting dotenv\n",
            "  Downloading dotenv-0.0.5.tar.gz (2.4 kB)\n",
            "  Preparing metadata (setup.py): started\n",
            "  Preparing metadata (setup.py): finished with status 'error'\n"
          ]
        },
        {
          "name": "stderr",
          "output_type": "stream",
          "text": [
            "  error: subprocess-exited-with-error\n",
            "  \n",
            "  × python setup.py egg_info did not run successfully.\n",
            "  │ exit code: 1\n",
            "  ╰─> [62 lines of output]\n",
            "        error: subprocess-exited-with-error\n",
            "      \n",
            "        Ã— python setup.py egg_info did not run successfully.\n",
            "        â”‚ exit code: 1\n",
            "        â•°â”€> [16 lines of output]\n",
            "            Traceback (most recent call last):\n",
            "              File \"<string>\", line 2, in <module>\n",
            "              File \"<pip-setuptools-caller>\", line 14, in <module>\n",
            "              File \"C:\\Users\\khush\\AppData\\Local\\Temp\\pip-wheel-u2doland\\distribute_9109bda22da54641baf6e80e7f295e38\\setuptools\\__init__.py\", line 2, in <module>\n",
            "                from setuptools.extension import Extension, Library\n",
            "              File \"C:\\Users\\khush\\AppData\\Local\\Temp\\pip-wheel-u2doland\\distribute_9109bda22da54641baf6e80e7f295e38\\setuptools\\extension.py\", line 5, in <module>\n",
            "                from setuptools.dist import _get_unpatched\n",
            "              File \"C:\\Users\\khush\\AppData\\Local\\Temp\\pip-wheel-u2doland\\distribute_9109bda22da54641baf6e80e7f295e38\\setuptools\\dist.py\", line 7, in <module>\n",
            "                from setuptools.command.install import install\n",
            "              File \"C:\\Users\\khush\\AppData\\Local\\Temp\\pip-wheel-u2doland\\distribute_9109bda22da54641baf6e80e7f295e38\\setuptools\\command\\__init__.py\", line 8, in <module>\n",
            "                from setuptools.command import install_scripts\n",
            "              File \"C:\\Users\\khush\\AppData\\Local\\Temp\\pip-wheel-u2doland\\distribute_9109bda22da54641baf6e80e7f295e38\\setuptools\\command\\install_scripts.py\", line 3, in <module>\n",
            "                from pkg_resources import Distribution, PathMetadata, ensure_directory\n",
            "              File \"C:\\Users\\khush\\AppData\\Local\\Temp\\pip-wheel-u2doland\\distribute_9109bda22da54641baf6e80e7f295e38\\pkg_resources.py\", line 1518, in <module>\n",
            "                register_loader_type(importlib_bootstrap.SourceFileLoader, DefaultProvider)\n",
            "            AttributeError: module 'importlib._bootstrap' has no attribute 'SourceFileLoader'\n",
            "            [end of output]\n",
            "      \n",
            "        note: This error originates from a subprocess, and is likely not a problem with pip.\n",
            "      error: metadata-generation-failed\n",
            "      \n",
            "      Ã— Encountered error while generating package metadata.\n",
            "      â•°â”€> See above for output.\n",
            "      \n",
            "      note: This is an issue with the package mentioned above, not pip.\n",
            "      hint: See above for details.\n",
            "      Traceback (most recent call last):\n",
            "        File \"C:\\Program Files\\Python310\\lib\\site-packages\\setuptools\\installer.py\", line 75, in fetch_build_egg\n",
            "          subprocess.check_call(cmd)\n",
            "        File \"C:\\Program Files\\Python310\\lib\\subprocess.py\", line 369, in check_call\n",
            "          raise CalledProcessError(retcode, cmd)\n",
            "      subprocess.CalledProcessError: Command '['C:\\\\Program Files\\\\Python310\\\\python.exe', '-m', 'pip', '--disable-pip-version-check', 'wheel', '--no-deps', '-w', 'C:\\\\Users\\\\khush\\\\AppData\\\\Local\\\\Temp\\\\tmp2uu1rwgr', '--quiet', 'distribute']' returned non-zero exit status 1.\n",
            "      \n",
            "      The above exception was the direct cause of the following exception:\n",
            "      \n",
            "      Traceback (most recent call last):\n",
            "        File \"<string>\", line 2, in <module>\n",
            "        File \"<pip-setuptools-caller>\", line 34, in <module>\n",
            "        File \"C:\\Users\\khush\\AppData\\Local\\Temp\\pip-install-5aszp_i3\\dotenv_a0640742bde9435fa1c97184693812bf\\setup.py\", line 13, in <module>\n",
            "          setup(name='dotenv',\n",
            "        File \"C:\\Program Files\\Python310\\lib\\site-packages\\setuptools\\__init__.py\", line 152, in setup\n",
            "          _install_setup_requires(attrs)\n",
            "        File \"C:\\Program Files\\Python310\\lib\\site-packages\\setuptools\\__init__.py\", line 147, in _install_setup_requires\n",
            "          dist.fetch_build_eggs(dist.setup_requires)\n",
            "        File \"C:\\Program Files\\Python310\\lib\\site-packages\\setuptools\\dist.py\", line 806, in fetch_build_eggs\n",
            "          resolved_dists = pkg_resources.working_set.resolve(\n",
            "        File \"C:\\Program Files\\Python310\\lib\\site-packages\\pkg_resources\\__init__.py\", line 766, in resolve\n",
            "          dist = best[req.key] = env.best_match(\n",
            "        File \"C:\\Program Files\\Python310\\lib\\site-packages\\pkg_resources\\__init__.py\", line 1051, in best_match\n",
            "          return self.obtain(req, installer)\n",
            "        File \"C:\\Program Files\\Python310\\lib\\site-packages\\pkg_resources\\__init__.py\", line 1063, in obtain\n",
            "          return installer(requirement)\n",
            "        File \"C:\\Program Files\\Python310\\lib\\site-packages\\setuptools\\dist.py\", line 877, in fetch_build_egg\n",
            "          return fetch_build_egg(self, req)\n",
            "        File \"C:\\Program Files\\Python310\\lib\\site-packages\\setuptools\\installer.py\", line 77, in fetch_build_egg\n",
            "          raise DistutilsError(str(e)) from e\n",
            "      distutils.errors.DistutilsError: Command '['C:\\\\Program Files\\\\Python310\\\\python.exe', '-m', 'pip', '--disable-pip-version-check', 'wheel', '--no-deps', '-w', 'C:\\\\Users\\\\khush\\\\AppData\\\\Local\\\\Temp\\\\tmp2uu1rwgr', '--quiet', 'distribute']' returned non-zero exit status 1.\n",
            "      [end of output]\n",
            "  \n",
            "  note: This error originates from a subprocess, and is likely not a problem with pip.\n",
            "error: metadata-generation-failed\n",
            "\n",
            "× Encountered error while generating package metadata.\n",
            "╰─> See above for output.\n",
            "\n",
            "note: This is an issue with the package mentioned above, not pip.\n",
            "hint: See above for details.\n",
            "WARNING: You are using pip version 22.0.4; however, version 24.0 is available.\n",
            "You should consider upgrading via the 'C:\\Program Files\\Python310\\python.exe -m pip install --upgrade pip' command.\n"
          ]
        }
      ],
      "source": [
        "# installing requirements\n",
        "!pip install cohere\n",
        "!pip install weaviate-client Annoy\n",
        "!pip install weaviate-client"
      ]
    },
    {
      "cell_type": "code",
      "execution_count": 4,
      "metadata": {},
      "outputs": [],
      "source": [
        "import os\n",
        "#from dotenv import load_dotenv\n",
        "\n",
        "#load_dotenv()\n",
        "\n",
        "COHERE_API_KEY = os.getenv('COHERE_API_KEY')\n",
        "WEAVIATE_API_KEY = os.getenv('WEAVIATE_API_KEY')"
      ]
    },
    {
      "cell_type": "code",
      "execution_count": 5,
      "metadata": {
        "id": "BIrtH4lPVIXL"
      },
      "outputs": [],
      "source": [
        "import weaviate\n",
        "auth_config = weaviate.auth.AuthApiKey(\n",
        "    api_key=WEAVIATE_API_KEY)"
      ]
    },
    {
      "cell_type": "code",
      "execution_count": 6,
      "metadata": {
        "id": "SMrtAO_qXgfI"
      },
      "outputs": [
        {
          "name": "stderr",
          "output_type": "stream",
          "text": [
            "C:\\Users\\khush\\AppData\\Roaming\\Python\\Python310\\site-packages\\weaviate\\warnings.py:158: DeprecationWarning: Dep016: You are using the Weaviate v3 client, which is deprecated.\n",
            "            Consider upgrading to the new and improved v4 client instead!\n",
            "            See here for usage: https://weaviate.io/developers/weaviate/client-libraries/python\n",
            "            \n",
            "  warnings.warn(\n"
          ]
        }
      ],
      "source": [
        "client = weaviate.Client(\n",
        "    url='https://cohere-demo.weaviate.network',\n",
        "    auth_client_secret=auth_config,\n",
        "    additional_headers={\n",
        "        \"X-Cohere-Api-Key\": COHERE_API_KEY,\n",
        "    }\n",
        ")"
      ]
    },
    {
      "cell_type": "code",
      "execution_count": 7,
      "metadata": {
        "colab": {
          "base_uri": "https://localhost:8080/"
        },
        "id": "VjOCqeYdXw7r",
        "outputId": "63eaff09-67d3-41f8-df53-435191902178"
      },
      "outputs": [
        {
          "data": {
            "text/plain": [
              "True"
            ]
          },
          "execution_count": 7,
          "metadata": {},
          "output_type": "execute_result"
        }
      ],
      "source": [
        "client.is_ready()"
      ]
    },
    {
      "cell_type": "markdown",
      "metadata": {
        "id": "ejNfuY8SX9TZ"
      },
      "source": [
        "# Keyword Search"
      ]
    },
    {
      "cell_type": "code",
      "execution_count": 6,
      "metadata": {
        "id": "S3omgh3BXzNN"
      },
      "outputs": [],
      "source": [
        "def keyword_search(query,\n",
        "                   results_lang='en',\n",
        "                   properties = [\"title\",\"url\",\"text\"],\n",
        "                   num_results=3):\n",
        "\n",
        "    where_filter = {\n",
        "    \"path\": [\"lang\"],\n",
        "    \"operator\": \"Equal\",\n",
        "    \"valueString\": results_lang\n",
        "    }\n",
        "\n",
        "    response = (\n",
        "        client.query.get(\"Articles\", properties)\n",
        "        .with_bm25(\n",
        "            query=query\n",
        "        )\n",
        "        .with_where(where_filter)\n",
        "        .with_limit(num_results)\n",
        "        .do()\n",
        "        )\n",
        "\n",
        "    result = response['data']['Get']['Articles']\n",
        "    return result"
      ]
    },
    {
      "cell_type": "code",
      "execution_count": 7,
      "metadata": {
        "colab": {
          "base_uri": "https://localhost:8080/"
        },
        "id": "5UeuGWRiYHKR",
        "outputId": "1988c3ef-824b-4b4a-e7ee-6e755ef9291c"
      },
      "outputs": [
        {
          "name": "stdout",
          "output_type": "stream",
          "text": [
            "[{'text': 'The most active Gamergate supporters or \"Gamergaters\" said that Gamergate was a movement for ethics in games journalism, for protecting the \"gamer\" identity, and for opposing \"political correctness\" in video games and that any harassment of women was done by others not affiliated with Gamergate. They argued that the close relationships between journalists and developers demonstrated a conspiracy among reviewers to focus on progressive social issues. Some supporters pointed to what they considered disproportionate praise for games such as \"Depression Quest\" and \"Gone Home\", which feature unconventional gameplay and stories with social implications, while they viewed traditional AAA games as downplayed. False claims of the \"ethics in game journalism\" had started as early as 2012, when Geoff Keighley was accused of such unethical behavior when he was presenting information about \"Halo 4\" among advertisements for Mountain Dew and Doritos, an event called \"Doritosgate\" in the gamer culture.', 'title': 'Gamergate (harassment campaign)', 'url': 'https://en.wikipedia.org/wiki?curid=43758363'}, {'text': '\"Rolling Stone\" stated Jackson\\'s Super Bowl performance \"is far and away the most famous moment in the history of the Super Bowl halftime show\". \"PopCrush\" called the performance \"one of the most shocking moments in pop culture\" as well as a \"totally unexpected and unforgettable moment\". \"Gawker\" ranked the performance among the most recent of the \"10 Shows that Advanced Sex on Television\", commenting the set \"had all the elements of a huge story\" and \"within seconds the world searched furtively for pictures\", concluding \"it remains so ubiquitous, it\\'s impossible to look at a starburst nipple shield without thinking \"Janet Jackson\"\". \"E! Online\" ranked it among the top ten most shocking celebrity moments of the prior two decades. A study of television\\'s most impactful moments of the last 50 years conducted by Sony Electronics and the Nielsen Television Research Company ranked Jackson\\'s Super Bowl performance at #26. The incident was the only Super Bowl event on the list and the highest music and entertainment event aside from the death of Whitney Houston. TV Guide Network ranked it at #2 in a 2010 special listing the \"25 Biggest TV Blunders\". \"Complex\" stated \"It\\'s the Citizen Kane of televised nip-slips—so unexpected, and on such a large stage, that nothing else will ever come close. If Beyoncé were to whip out both breasts and put on a puppet show with them when she performs this year in New Orleans, it would rate as just the second most shocking Super Boob display. Janet\\'s strangely ornamented right nipple is a living legend, and so is Justin Timberlake\\'s terrified reaction.\" Music channel Fuse listed it as the most controversial Super Bowl halftime show, saying the \"revealing performance remains (and will forever remain) the craziest thing to ever happen at a halftime show. Almost immediately after the incident, the FCC received a flood of complaints from parents who just wanted their children to enjoy a nice, wholesome three hours of grown men inflicting damaging and long-lasting pain on each other for sport. Halftime shows would never be the same.\" Patrick Gipson of \"Bleacher Report\" ranked it as #1 in its list of the most \"Jaw Dropping Moments of the Last Decade\", stating Janet \"changed the landscape of live television forever\". Gipson explained \"It prompted a million mothers to cover their eyes, fathers and sons to jump out of their seats in shock and numerous sanctions by the Federal Communications Commission, including a US$550,000 fine against CBS. Talk about a halftime show that will be hard to top.\" The incident was also declared \"the most memorable Super Bowl halftime show in history\", as well as \"the most controversial\", adding \"you can\\'t talk about this halftime show, or any subsequent halftime show from here to eternity, without mentioning the wardrobe malfunction\".', 'title': 'Super Bowl XXXVIII halftime show controversy', 'url': 'https://en.wikipedia.org/wiki?curid=498971'}, {'text': 'West Germany (established in May 1949) was not eligible for the 1950 World Cup (the first after the war), and so all preparations were made with a view toward the 1954 matches in Bern, Switzerland. By that time Adidas\\'s football boots were considerably lighter than the ones made before the war, based on English designs. At the World Cup Adi had a secret weapon, which he revealed when West Germany made the finals against the overwhelmingly favored Hungarian team, which was undefeated since May 1950 and had defeated West Germany 8–3 in group play. Despite this defeat, West Germany made the knock-out rounds by twice defeating Turkey handily. The team defeated Yugoslavia and Austria to reach the final (a remarkable achievement), where the hope of many German fans was simply that the team \"avoid another humiliating defeat\" at the hands of the Hungarians. The day of the final began with light rain, which brightened the prospects of the West German team who called it \"\"Fritz Walter-Wetter\"\" because the team\\'s best player excelled in muddy conditions. Dassler informed Herberger before the match of his latest innovation—\"screw in studs.\" Unlike the traditional boot which had fixed leather spike studs, Dassler\\'s shoe allowed spikes of various lengths to be affixed depending on the state of the pitch. As the playing field at Wankdorf Stadium drastically deteriorated, Herberger famously announced, \"Adi, screw them on.\" The longer spikes improved the footing of West German players compared to the Hungarians whose mud-caked boots were also much heavier. The West Germans staged a come from behind upset, winning 3-2, in what became known as the \"Miracle in Bern.\" Herberger publicly praised Dassler as a key contributor to the win, and Adidas\\'s fame rose both in West Germany, where the win was considered a key post-war event in restoring German self-esteem and abroad, where in the first televised World Cup final viewers were introduced to \"the ultimate breakthrough.\"', 'title': 'Adolf Dassler', 'url': 'https://en.wikipedia.org/wiki?curid=2373164'}]\n"
          ]
        }
      ],
      "source": [
        "query = \"What is the most viewed televised event?\"\n",
        "keyword_search_results = keyword_search(query)\n",
        "print(keyword_search_results)"
      ]
    },
    {
      "cell_type": "code",
      "execution_count": 8,
      "metadata": {
        "id": "JCsdpzYRYHvI"
      },
      "outputs": [],
      "source": [
        "def print_result(result):\n",
        "    \"\"\" Print results with colorful formatting \"\"\"\n",
        "    for i,item in enumerate(result):\n",
        "        print(f'item {i}')\n",
        "        for key in item.keys():\n",
        "            print(f\"{key}:{item.get(key)}\")\n",
        "            print()\n",
        "        print()"
      ]
    },
    {
      "cell_type": "code",
      "execution_count": 9,
      "metadata": {
        "colab": {
          "base_uri": "https://localhost:8080/"
        },
        "id": "lMuv9H1Qaooh",
        "outputId": "696fbab7-b644-430a-aeb8-38b24ac85619"
      },
      "outputs": [
        {
          "name": "stdout",
          "output_type": "stream",
          "text": [
            "item 0\n",
            "text:The most active Gamergate supporters or \"Gamergaters\" said that Gamergate was a movement for ethics in games journalism, for protecting the \"gamer\" identity, and for opposing \"political correctness\" in video games and that any harassment of women was done by others not affiliated with Gamergate. They argued that the close relationships between journalists and developers demonstrated a conspiracy among reviewers to focus on progressive social issues. Some supporters pointed to what they considered disproportionate praise for games such as \"Depression Quest\" and \"Gone Home\", which feature unconventional gameplay and stories with social implications, while they viewed traditional AAA games as downplayed. False claims of the \"ethics in game journalism\" had started as early as 2012, when Geoff Keighley was accused of such unethical behavior when he was presenting information about \"Halo 4\" among advertisements for Mountain Dew and Doritos, an event called \"Doritosgate\" in the gamer culture.\n",
            "\n",
            "title:Gamergate (harassment campaign)\n",
            "\n",
            "url:https://en.wikipedia.org/wiki?curid=43758363\n",
            "\n",
            "\n",
            "item 1\n",
            "text:\"Rolling Stone\" stated Jackson's Super Bowl performance \"is far and away the most famous moment in the history of the Super Bowl halftime show\". \"PopCrush\" called the performance \"one of the most shocking moments in pop culture\" as well as a \"totally unexpected and unforgettable moment\". \"Gawker\" ranked the performance among the most recent of the \"10 Shows that Advanced Sex on Television\", commenting the set \"had all the elements of a huge story\" and \"within seconds the world searched furtively for pictures\", concluding \"it remains so ubiquitous, it's impossible to look at a starburst nipple shield without thinking \"Janet Jackson\"\". \"E! Online\" ranked it among the top ten most shocking celebrity moments of the prior two decades. A study of television's most impactful moments of the last 50 years conducted by Sony Electronics and the Nielsen Television Research Company ranked Jackson's Super Bowl performance at #26. The incident was the only Super Bowl event on the list and the highest music and entertainment event aside from the death of Whitney Houston. TV Guide Network ranked it at #2 in a 2010 special listing the \"25 Biggest TV Blunders\". \"Complex\" stated \"It's the Citizen Kane of televised nip-slips—so unexpected, and on such a large stage, that nothing else will ever come close. If Beyoncé were to whip out both breasts and put on a puppet show with them when she performs this year in New Orleans, it would rate as just the second most shocking Super Boob display. Janet's strangely ornamented right nipple is a living legend, and so is Justin Timberlake's terrified reaction.\" Music channel Fuse listed it as the most controversial Super Bowl halftime show, saying the \"revealing performance remains (and will forever remain) the craziest thing to ever happen at a halftime show. Almost immediately after the incident, the FCC received a flood of complaints from parents who just wanted their children to enjoy a nice, wholesome three hours of grown men inflicting damaging and long-lasting pain on each other for sport. Halftime shows would never be the same.\" Patrick Gipson of \"Bleacher Report\" ranked it as #1 in its list of the most \"Jaw Dropping Moments of the Last Decade\", stating Janet \"changed the landscape of live television forever\". Gipson explained \"It prompted a million mothers to cover their eyes, fathers and sons to jump out of their seats in shock and numerous sanctions by the Federal Communications Commission, including a US$550,000 fine against CBS. Talk about a halftime show that will be hard to top.\" The incident was also declared \"the most memorable Super Bowl halftime show in history\", as well as \"the most controversial\", adding \"you can't talk about this halftime show, or any subsequent halftime show from here to eternity, without mentioning the wardrobe malfunction\".\n",
            "\n",
            "title:Super Bowl XXXVIII halftime show controversy\n",
            "\n",
            "url:https://en.wikipedia.org/wiki?curid=498971\n",
            "\n",
            "\n",
            "item 2\n",
            "text:West Germany (established in May 1949) was not eligible for the 1950 World Cup (the first after the war), and so all preparations were made with a view toward the 1954 matches in Bern, Switzerland. By that time Adidas's football boots were considerably lighter than the ones made before the war, based on English designs. At the World Cup Adi had a secret weapon, which he revealed when West Germany made the finals against the overwhelmingly favored Hungarian team, which was undefeated since May 1950 and had defeated West Germany 8–3 in group play. Despite this defeat, West Germany made the knock-out rounds by twice defeating Turkey handily. The team defeated Yugoslavia and Austria to reach the final (a remarkable achievement), where the hope of many German fans was simply that the team \"avoid another humiliating defeat\" at the hands of the Hungarians. The day of the final began with light rain, which brightened the prospects of the West German team who called it \"\"Fritz Walter-Wetter\"\" because the team's best player excelled in muddy conditions. Dassler informed Herberger before the match of his latest innovation—\"screw in studs.\" Unlike the traditional boot which had fixed leather spike studs, Dassler's shoe allowed spikes of various lengths to be affixed depending on the state of the pitch. As the playing field at Wankdorf Stadium drastically deteriorated, Herberger famously announced, \"Adi, screw them on.\" The longer spikes improved the footing of West German players compared to the Hungarians whose mud-caked boots were also much heavier. The West Germans staged a come from behind upset, winning 3-2, in what became known as the \"Miracle in Bern.\" Herberger publicly praised Dassler as a key contributor to the win, and Adidas's fame rose both in West Germany, where the win was considered a key post-war event in restoring German self-esteem and abroad, where in the first televised World Cup final viewers were introduced to \"the ultimate breakthrough.\"\n",
            "\n",
            "title:Adolf Dassler\n",
            "\n",
            "url:https://en.wikipedia.org/wiki?curid=2373164\n",
            "\n",
            "\n"
          ]
        }
      ],
      "source": [
        "print_result(keyword_search_results)"
      ]
    },
    {
      "cell_type": "markdown",
      "metadata": {
        "id": "ovlqnPcSbmV4"
      },
      "source": [
        "# Vector Database for semantic Search"
      ]
    },
    {
      "cell_type": "code",
      "execution_count": 10,
      "metadata": {
        "id": "EuMP2kS8br0i"
      },
      "outputs": [],
      "source": [
        "import cohere\n",
        "co = cohere.Client(COHERE_API_KEY)"
      ]
    },
    {
      "cell_type": "code",
      "execution_count": 11,
      "metadata": {
        "id": "QPw1lIPacNFy"
      },
      "outputs": [],
      "source": [
        "def dense_retrieval(query,\n",
        "                    results_lang='en',\n",
        "                    properties = [\"text\", \"title\", \"url\", \"views\", \"lang\", \"_additional {distance}\"],\n",
        "                    num_results=5):\n",
        "\n",
        "    nearText = {\"concepts\": [query]}\n",
        "\n",
        "    # To filter by language\n",
        "    where_filter = {\n",
        "    \"path\": [\"lang\"],\n",
        "    \"operator\": \"Equal\",\n",
        "    \"valueString\": results_lang\n",
        "    }\n",
        "    response = (\n",
        "        client.query\n",
        "        .get(\"Articles\", properties)\n",
        "        .with_near_text(nearText)\n",
        "        .with_where(where_filter)\n",
        "        .with_limit(num_results)\n",
        "        .do()\n",
        "    )\n",
        "\n",
        "    result = response['data']['Get']['Articles']\n",
        "\n",
        "    return result"
      ]
    },
    {
      "cell_type": "markdown",
      "metadata": {
        "id": "HFqjiRGkdEHR"
      },
      "source": [
        "### Basic Query"
      ]
    },
    {
      "cell_type": "code",
      "execution_count": 12,
      "metadata": {
        "colab": {
          "base_uri": "https://localhost:8080/"
        },
        "id": "VxRRlk24c6TU",
        "outputId": "e718f4e9-8596-40db-bdd7-389bf5a78775"
      },
      "outputs": [
        {
          "name": "stdout",
          "output_type": "stream",
          "text": [
            "item 0\n",
            "_additional:{'distance': -154.75615}\n",
            "\n",
            "lang:en\n",
            "\n",
            "text:There are many works that have been pointed to as possible sources for Shakespeare's play—from ancient Greek tragedies to Elizabethan plays. The editors of the Arden Shakespeare question the idea of \"source hunting\", pointing out that it presupposes that authors always require ideas from other works for their own, and suggests that no author can have an original idea or be an originator. When Shakespeare wrote there were many stories about sons avenging the murder of their fathers, and many about clever avenging sons pretending to be foolish in order to outsmart their foes. This would include the story of the ancient Roman, Lucius Junius Brutus, which Shakespeare apparently knew, as well as the story of Amleth, which was preserved in Latin by 13th-century chronicler Saxo Grammaticus in his \"Gesta Danorum\", and printed in Paris in 1514. The Amleth story was subsequently adapted and then published in French in 1570 by the 16th-century scholar François de Belleforest. It has a number of plot elements and major characters in common with Shakespeare's \"Hamlet\", and lacks others that are found in Shakespeare. Belleforest's story was first published in English in 1608, after \"Hamlet\" had been written, though it's possible that Shakespeare had encountered it in the French-language version.\n",
            "\n",
            "title:Hamlet\n",
            "\n",
            "url:https://en.wikipedia.org/wiki?curid=13554\n",
            "\n",
            "views:3000\n",
            "\n",
            "\n",
            "item 1\n",
            "_additional:{'distance': -154.56943}\n",
            "\n",
            "lang:en\n",
            "\n",
            "text:English poet John Milton was an early admirer of Shakespeare and took evident inspiration from his work. As John Kerrigan discusses, Milton originally considered writing his epic poem \"Paradise Lost\" (1667) as a tragedy. While Milton did not ultimately go that route, the poem still shows distinct echoes of Shakespearean revenge tragedy, and of \"Hamlet\" in particular. As scholar Christopher N. Warren argues, \"Paradise Lost\"s Satan \"undergoes a transformation in the poem from a Hamlet-like avenger into a Claudius-like usurper,\" a plot device that supports Milton's larger Republican internationalist project. The poem also reworks theatrical language from \"Hamlet\", especially around the idea of \"putting on\" certain dispositions, as when Hamlet puts on \"an antic disposition,\" similarly to the Son in \"Paradise Lost\" who \"can put on / [God's] terrors.\"\n",
            "\n",
            "title:Hamlet\n",
            "\n",
            "url:https://en.wikipedia.org/wiki?curid=13554\n",
            "\n",
            "views:3000\n",
            "\n",
            "\n",
            "item 2\n",
            "_additional:{'distance': -154.2872}\n",
            "\n",
            "lang:en\n",
            "\n",
            "text:The Tragedy of Hamlet, Prince of Denmark, often shortened to Hamlet (), is a tragedy written by William Shakespeare sometime between 1599 and 1601. It is Shakespeare's longest play, with 29,551 words. Set in Denmark, the play depicts Prince Hamlet and his attempts to exact revenge against his uncle, Claudius, who has murdered Hamlet's father in order to seize his throne and marry Hamlet's mother.\n",
            "\n",
            "title:Hamlet\n",
            "\n",
            "url:https://en.wikipedia.org/wiki?curid=13554\n",
            "\n",
            "views:3000\n",
            "\n",
            "\n",
            "item 3\n",
            "_additional:{'distance': -153.54633}\n",
            "\n",
            "lang:en\n",
            "\n",
            "text:In 1598, Francis Meres published his \"Palladis Tamia\", a survey of English literature from Chaucer to its present day, within which twelve of Shakespeare's plays are named. \"Hamlet\" is not among them, suggesting that it had not yet been written. As \"Hamlet\" was very popular, Bernard Lott, the series editor of \"New Swan\", believes it \"unlikely that he [Meres] would have overlooked ... so significant a piece\".\n",
            "\n",
            "title:Hamlet\n",
            "\n",
            "url:https://en.wikipedia.org/wiki?curid=13554\n",
            "\n",
            "views:3000\n",
            "\n",
            "\n",
            "item 4\n",
            "_additional:{'distance': -153.43037}\n",
            "\n",
            "lang:en\n",
            "\n",
            "text:Shakespeare almost certainly wrote the role of Hamlet for Richard Burbage. He was the chief tragedian of the Lord Chamberlain's Men, with a capacious memory for lines and a wide emotional range. Judging by the number of reprints, \"Hamlet\" appears to have been Shakespeare's fourth most popular play during his lifetime—only \"Henry IV Part 1\", \"Richard III\" and \"Pericles\" eclipsed it. Shakespeare provides no clear indication of when his play is set; however, as Elizabethan actors performed at the Globe in contemporary dress on minimal sets, this would not have affected the staging.\n",
            "\n",
            "title:Hamlet\n",
            "\n",
            "url:https://en.wikipedia.org/wiki?curid=13554\n",
            "\n",
            "views:3000\n",
            "\n",
            "\n"
          ]
        }
      ],
      "source": [
        "query = \"Who wrote Hamlet?\"\n",
        "dense_retrieval_results = dense_retrieval(query)\n",
        "print_result(dense_retrieval_results)"
      ]
    },
    {
      "cell_type": "markdown",
      "metadata": {
        "id": "sayHi1REdLXM"
      },
      "source": [
        "### Medium Query"
      ]
    },
    {
      "cell_type": "markdown",
      "metadata": {
        "id": "53Ab-Y9HdYoC"
      },
      "source": [
        "Comparing the results from Dense Retrieval and Keyword Search for the query: What is the capital of Canada?"
      ]
    },
    {
      "cell_type": "code",
      "execution_count": 13,
      "metadata": {
        "colab": {
          "base_uri": "https://localhost:8080/"
        },
        "id": "miDcVPGxdGM1",
        "outputId": "8b826d88-cbc2-4904-8269-0506cac2ceaf"
      },
      "outputs": [
        {
          "name": "stdout",
          "output_type": "stream",
          "text": [
            "item 0\n",
            "_additional:{'distance': -150.8031}\n",
            "\n",
            "lang:en\n",
            "\n",
            "text:The governor general of the province had designated Kingston as the capital in 1841. However, the major population centres of Toronto and Montreal, as well as the former capital of Lower Canada, Quebec City, all had legislators dissatisfied with Kingston. Anglophone merchants in Quebec were the main group supportive of the Kingston arrangement. In 1842, a vote rejected Kingston as the capital, and study of potential candidates included the then-named Bytown, but that option proved less popular than Toronto or Montreal. In 1843, a report of the Executive Council recommended Montreal as the capital as a more fortifiable location and commercial centre, however, the Governor General refused to execute a move without a parliamentary vote. In 1844, the Queen's acceptance of a parliamentary vote moved the capital to Montreal.\n",
            "\n",
            "title:Ottawa\n",
            "\n",
            "url:https://en.wikipedia.org/wiki?curid=22219\n",
            "\n",
            "views:2000\n",
            "\n",
            "\n",
            "item 1\n",
            "_additional:{'distance': -150.28354}\n",
            "\n",
            "lang:en\n",
            "\n",
            "text:For brief periods, Toronto was twice the capital of the united Province of Canada: first from 1849 to 1852, following unrest in Montreal, and later 1856–1858. After this date, Quebec was designated as the capital until 1866 (one year before Canadian Confederation). Since then, the capital of Canada has remained Ottawa, Ontario.\n",
            "\n",
            "title:Toronto\n",
            "\n",
            "url:https://en.wikipedia.org/wiki?curid=64646\n",
            "\n",
            "views:3000\n",
            "\n",
            "\n",
            "item 2\n",
            "_additional:{'distance': -150.02524}\n",
            "\n",
            "lang:en\n",
            "\n",
            "text:Selection of Ottawa as the capital of Canada predates the Confederation of Canada. The selection was contentious and not straightforward, with the parliament of the United Province of Canada holding more than 200 votes over several decades to attempt to settle on a legislative solution to the location of the capital.\n",
            "\n",
            "title:Ottawa\n",
            "\n",
            "url:https://en.wikipedia.org/wiki?curid=22219\n",
            "\n",
            "views:2000\n",
            "\n",
            "\n",
            "item 3\n",
            "_additional:{'distance': -149.92365}\n",
            "\n",
            "lang:en\n",
            "\n",
            "text:Until the late 18th century Québec was the most populous city in present-day Canada. As of the census of 1790, Montreal surpassed it with 18,000 inhabitants, but Quebec (pop. 14,000) remained the administrative capital of New France. It was then made the capital of Lower Canada by the Constitutional Act of 1791. From 1841 to 1867, the capital of the Province of Canada rotated between Kingston, Montreal, Toronto, Ottawa and Quebec City (from 1852 to 1856 and from 1859 to 1866).\n",
            "\n",
            "title:Quebec City\n",
            "\n",
            "url:https://en.wikipedia.org/wiki?curid=100727\n",
            "\n",
            "views:2000\n",
            "\n",
            "\n",
            "item 4\n",
            "_additional:{'distance': -149.71033}\n",
            "\n",
            "lang:en\n",
            "\n",
            "text:The Quebec Conference on Canadian Confederation was held in the city in 1864. In 1867, Queen Victoria chose Ottawa as the definite capital of the Dominion of Canada, while Quebec City was confirmed as the capital of the newly created province of Quebec.\n",
            "\n",
            "title:Quebec City\n",
            "\n",
            "url:https://en.wikipedia.org/wiki?curid=100727\n",
            "\n",
            "views:2000\n",
            "\n",
            "\n"
          ]
        }
      ],
      "source": [
        "query = \"What is the capital of Canada?\"\n",
        "dense_retrieval_results = dense_retrieval(query)\n",
        "print_result(dense_retrieval_results)"
      ]
    },
    {
      "cell_type": "code",
      "execution_count": 14,
      "metadata": {
        "colab": {
          "base_uri": "https://localhost:8080/"
        },
        "id": "9QNHMA1gdNhk",
        "outputId": "a8fd5e89-d1a8-48f3-b39b-def6690e87b4"
      },
      "outputs": [
        {
          "name": "stdout",
          "output_type": "stream",
          "text": [
            "item 0\n",
            "text:In his 1990 book, \"Continental Divide: the Values and Institutions of the United States and Canada,\" Seymour Martin Lipset argues that the presence of the monarchy in Canada helps distinguish Canadian identity from American identity. Since at least the 1930s, supporters of the Crown have held the opinion that the Canadian monarch is also one of the rare unified elements of Canadian society, focusing both \"the historic consciousness of the nation\" and various forms of patriotism and national love \"[on] the point around which coheres the nation's sense of a continuing personality\". Former Governor General Vincent Massey articulated in 1967 that the monarchy \"is part of ourselves. It is linked in a very special way with our national life. It stands for qualities and institutions which mean Canada to every one of us and which for all our differences and all our variety have kept Canada Canadian.\" But, according to Arthur Bousfield and Gary Toffoli, Canadians were, through the late 1960s to the 2000s, encouraged by the federal government to \"neglect, ignore, forget, reject, debase, suppress, even hate, and certainly treat as foreign what their parents and grandparents, whether spiritual or blood, regarded as the basis of Canadian nationhood, autonomy, and history\", including the monarchy. Former Governor General Roland Michener said in 1970 that anti-monarchists claimed the Canadian Crown is foreign and incompatible with Canada's multicultural society, which the government promoted as a Canadian identifier, and Lawrence Martin called in 2007 for Canada to become a republic in order to \"re-brand the nation\". However, Michener also stated, \"[the monarchy] is our own by inheritance and choice, and contributes much to our distinctive Canadian identity and our chances of independent survival amongst the republics of North and South America.\" Journalist Christina Blizzard emphasized in 2009 that the monarchy \"made [Canada] a haven of peace and justice for immigrants from around the world\", while Michael Valpy contended in 2009 that the Crown's nature permitted non-conformity amongst its subjects, thereby opening the door to multiculturalism and pluralism.\n",
            "\n",
            "title:Monarchy of Canada\n",
            "\n",
            "url:https://en.wikipedia.org/wiki?curid=56504\n",
            "\n",
            "\n",
            "item 1\n",
            "text:North America outside the zone of Spanish settlement was a contested area in the 17th century. Spain had founded small settlements in Florida and Georgia but nowhere near the size of those in New Spain or the Caribbean islands. France, The Netherlands, and Great Britain held several colonies in North America and the West Indies from the 17th century, 100 years after the Spanish and Portuguese established permanent colonies. The British colonies in North America were founded between 1607 (Virginia) and 1733 (Georgia). The Dutch explored the east coast of North America and began founding settlements in what they called New Netherland (now New York State.). France colonized what is now Eastern Canada, founding Quebec City in 1608. France's loss in the Seven Years' War resulted in the transfer of New France to Great Britain. The Thirteen Colonies, in lower British North America, rebelled against British rule in 1775, largely due to the taxation that Great Britain was imposing on the colonies. The British colonies in Canada remained loyal to the crown, and a provisional government formed by the Thirteen Colonies proclaimed their independence on July 4, 1776 and subsequently became the original 13 United States of America. With the 1783 Treaty of Paris ending the American Revolutionary War, Britain recognised the former Thirteen Colonies' independence.\n",
            "\n",
            "title:Early modern period\n",
            "\n",
            "url:https://en.wikipedia.org/wiki?curid=1291656\n",
            "\n",
            "\n",
            "item 2\n",
            "text:By the Second World War, the Red Ensign was viewed as Canada's \"de facto\" national flag. A joint committee of the Senate and House of Commons was appointed on November 8, 1945, to recommend a national flag to officially adopt. It received 2,409 designs from the public and was addressed by the director of the Historical Section of the Canadian Army, Fortescue Duguid, who pointed out that red and white were Canada's official colours and there was already an emblem representing the country: three joined maple leaves seen on the escutcheon of the Canadian coat of arms. By May 9 the following year, the committee reported back with a recommendation \"that the national flag of Canada should be the Canadian red ensign with a maple leaf in autumn golden colours in a bordered background of white\". The Legislative Assembly of Quebec had urged the committee to not include any of what it deemed as \"foreign symbols\", including the Union Flag, and Mackenzie King, then still prime minister, declined to act on the report; fearing it may lead to political instability. As a result, the Union Flag was kept as a national flag, and the order to fly the Canadian Red Ensign at government buildings was maintained.\n",
            "\n",
            "title:Flag of Canada\n",
            "\n",
            "url:https://en.wikipedia.org/wiki?curid=97066\n",
            "\n",
            "\n"
          ]
        }
      ],
      "source": [
        "query = \"What is the capital of Canada?\"\n",
        "keyword_search_results = keyword_search(query)\n",
        "print_result(keyword_search_results)"
      ]
    },
    {
      "cell_type": "markdown",
      "metadata": {
        "id": "gAR3-aEveCAA"
      },
      "source": [
        "We can see that the results for keyword search are worse as compared to the results of semantic search."
      ]
    },
    {
      "cell_type": "markdown",
      "metadata": {
        "id": "3OMWDxmifmXY"
      },
      "source": [
        "### Complex Queries"
      ]
    },
    {
      "cell_type": "code",
      "execution_count": 15,
      "metadata": {
        "colab": {
          "base_uri": "https://localhost:8080/"
        },
        "id": "yZ0d5yVpd2ba",
        "outputId": "8a66dad1-b7c1-4f68-e729-6f08995af3d4"
      },
      "outputs": [
        {
          "name": "stdout",
          "output_type": "stream",
          "text": [
            "item 0\n",
            "_additional:{'distance': -148.98888}\n",
            "\n",
            "lang:en\n",
            "\n",
            "text:Robert Pershing Wadlow (February 22, 1918 July 15, 1940), also known as the Alton Giant and the Giant of Illinois, was a man who was the tallest person in recorded history for whom there is irrefutable evidence. He was born and raised in Alton, Illinois, a small city near St. Louis, Missouri.\n",
            "\n",
            "title:Robert Wadlow\n",
            "\n",
            "url:https://en.wikipedia.org/wiki?curid=359117\n",
            "\n",
            "views:3000\n",
            "\n",
            "\n",
            "item 1\n",
            "_additional:{'distance': -148.09317}\n",
            "\n",
            "lang:en\n",
            "\n",
            "text:Bol came from a family of extraordinarily tall men and women. He said: \"My mother was , my father , and my sister is . And my great-grandfather was even taller—.\" His ethnic group, the Dinka, and the Nilotic people of which they are a part, are among the tallest populations in the world. Bol's hometown, Turalei, is the origin of other exceptionally tall people, including basketball player Ring Ayuel. \"I was born in a village, where you cannot measure yourself,\" Bol reflected. \"I learned I was 7 foot 7 in 1979, when I was grown. I was about 18 or 19.\"\n",
            "\n",
            "title:Manute Bol\n",
            "\n",
            "url:https://en.wikipedia.org/wiki?curid=283871\n",
            "\n",
            "views:2000\n",
            "\n",
            "\n",
            "item 2\n",
            "_additional:{'distance': -146.75945}\n",
            "\n",
            "lang:en\n",
            "\n",
            "text:One year before his death, Wadlow passed John Rogan as the tallest person ever. On June 27, 1940 (18 days before his death), he was measured by doctors at .\n",
            "\n",
            "title:Robert Wadlow\n",
            "\n",
            "url:https://en.wikipedia.org/wiki?curid=359117\n",
            "\n",
            "views:3000\n",
            "\n",
            "\n",
            "item 3\n",
            "_additional:{'distance': -146.63979}\n",
            "\n",
            "lang:en\n",
            "\n",
            "text:Kösen turned 40 years old on 10 December 2022. He celebrated his birthday a few days early by visiting the Ripley's Believe It or Not! museum in Orlando, Florida, USA and posing next to a life-sized statue of Robert Wadlow, the tallest man ever at 272 cm (8 ft 11.1 in).\n",
            "\n",
            "title:Sultan Kösen\n",
            "\n",
            "url:https://en.wikipedia.org/wiki?curid=8445237\n",
            "\n",
            "views:2000\n",
            "\n",
            "\n",
            "item 4\n",
            "_additional:{'distance': -146.57892}\n",
            "\n",
            "lang:en\n",
            "\n",
            "text:Sultan Kösen (born 10 December 1982) is a Turkish farmer who holds the Guinness World Record for tallest living male at . Of Kurdish ethnicity, he is the seventh tallest man in history.\n",
            "\n",
            "title:Sultan Kösen\n",
            "\n",
            "url:https://en.wikipedia.org/wiki?curid=8445237\n",
            "\n",
            "views:2000\n",
            "\n",
            "\n"
          ]
        }
      ],
      "source": [
        "query = \"Tallest person in history\"\n",
        "dense_retrieval_results = dense_retrieval(query)\n",
        "print_result(dense_retrieval_results)"
      ]
    },
    {
      "cell_type": "code",
      "execution_count": 16,
      "metadata": {
        "colab": {
          "base_uri": "https://localhost:8080/"
        },
        "id": "JRLgyOVtfry5",
        "outputId": "4148e4a8-e148-4caa-cb31-0416bc98a907"
      },
      "outputs": [
        {
          "name": "stdout",
          "output_type": "stream",
          "text": [
            "item 0\n",
            "_additional:{'distance': -147.44199}\n",
            "\n",
            "lang:en\n",
            "\n",
            "text:Robert Pershing Wadlow (February 22, 1918 July 15, 1940), also known as the Alton Giant and the Giant of Illinois, was a man who was the tallest person in recorded history for whom there is irrefutable evidence. He was born and raised in Alton, Illinois, a small city near St. Louis, Missouri.\n",
            "\n",
            "title:Robert Wadlow\n",
            "\n",
            "url:https://en.wikipedia.org/wiki?curid=359117\n",
            "\n",
            "views:3000\n",
            "\n",
            "\n",
            "item 1\n",
            "_additional:{'distance': -147.09518}\n",
            "\n",
            "lang:en\n",
            "\n",
            "text:Kösen turned 40 years old on 10 December 2022. He celebrated his birthday a few days early by visiting the Ripley's Believe It or Not! museum in Orlando, Florida, USA and posing next to a life-sized statue of Robert Wadlow, the tallest man ever at 272 cm (8 ft 11.1 in).\n",
            "\n",
            "title:Sultan Kösen\n",
            "\n",
            "url:https://en.wikipedia.org/wiki?curid=8445237\n",
            "\n",
            "views:2000\n",
            "\n",
            "\n",
            "item 2\n",
            "_additional:{'distance': -146.9144}\n",
            "\n",
            "lang:en\n",
            "\n",
            "text:Bol and Gheorghe Mureșan are the two tallest players in the history of the National Basketball Association. Official NBA publications have listed Bol at either or tall. He was measured by the Guinness Book of World Records at 7 ft 6  in tall. Complementing his great height, Bol had exceptionally long limbs (inseam ) and large hands and feet (size 16 ). His arm span, at , is (as of 2013) the longest in NBA history, and his upward reach was . He was extremely slender, limiting his offensive capability.\n",
            "\n",
            "title:Manute Bol\n",
            "\n",
            "url:https://en.wikipedia.org/wiki?curid=283871\n",
            "\n",
            "views:2000\n",
            "\n",
            "\n",
            "item 3\n",
            "_additional:{'distance': -146.62762}\n",
            "\n",
            "lang:en\n",
            "\n",
            "text:Sultan Kösen (born 10 December 1982) is a Turkish farmer who holds the Guinness World Record for tallest living male at . Of Kurdish ethnicity, he is the seventh tallest man in history.\n",
            "\n",
            "title:Sultan Kösen\n",
            "\n",
            "url:https://en.wikipedia.org/wiki?curid=8445237\n",
            "\n",
            "views:2000\n",
            "\n",
            "\n",
            "item 4\n",
            "_additional:{'distance': -146.54651}\n",
            "\n",
            "lang:en\n",
            "\n",
            "text:Jonah Adam (Cardeli) Falcon (born July 29, 1970) is an American actor and television presenter. He came to international attention in 1999 because of his claim that he has the largest penis in the world, which he claims is long when erect; Falcon has not authorized or permitted independent verification of this figure.\n",
            "\n",
            "title:Jonah Falcon\n",
            "\n",
            "url:https://en.wikipedia.org/wiki?curid=22044645\n",
            "\n",
            "views:2000\n",
            "\n",
            "\n"
          ]
        }
      ],
      "source": [
        "query = \"أطول رجل في التاريخ\"\n",
        "dense_retrieval_results = dense_retrieval(query)\n",
        "print_result(dense_retrieval_results)"
      ]
    },
    {
      "cell_type": "markdown",
      "metadata": {
        "id": "q69RN3zdiMGQ"
      },
      "source": [
        "### Improving dense Retrieval using Re-rank"
      ]
    },
    {
      "cell_type": "code",
      "execution_count": 17,
      "metadata": {
        "id": "TrmtQmMhfvbb"
      },
      "outputs": [],
      "source": [
        "query_2 = \"Who is the tallest person in history?\""
      ]
    },
    {
      "cell_type": "code",
      "execution_count": 18,
      "metadata": {
        "id": "6hBJUzISiVir"
      },
      "outputs": [],
      "source": [
        "results = dense_retrieval(query_2)"
      ]
    },
    {
      "cell_type": "code",
      "execution_count": 19,
      "metadata": {
        "colab": {
          "base_uri": "https://localhost:8080/"
        },
        "id": "EG1SuF03iYjO",
        "outputId": "4738507c-37bf-48da-ec0f-d22e9249966d"
      },
      "outputs": [
        {
          "name": "stdout",
          "output_type": "stream",
          "text": [
            "i:0\n",
            "Robert Wadlow\n",
            "Robert Pershing Wadlow (February 22, 1918 July 15, 1940), also known as the Alton Giant and the Giant of Illinois, was a man who was the tallest person in recorded history for whom there is irrefutable evidence. He was born and raised in Alton, Illinois, a small city near St. Louis, Missouri.\n",
            "\n",
            "i:1\n",
            "Manute Bol\n",
            "Bol came from a family of extraordinarily tall men and women. He said: \"My mother was , my father , and my sister is . And my great-grandfather was even taller—.\" His ethnic group, the Dinka, and the Nilotic people of which they are a part, are among the tallest populations in the world. Bol's hometown, Turalei, is the origin of other exceptionally tall people, including basketball player Ring Ayuel. \"I was born in a village, where you cannot measure yourself,\" Bol reflected. \"I learned I was 7 foot 7 in 1979, when I was grown. I was about 18 or 19.\"\n",
            "\n",
            "i:2\n",
            "Sultan Kösen\n",
            "Sultan Kösen (born 10 December 1982) is a Turkish farmer who holds the Guinness World Record for tallest living male at . Of Kurdish ethnicity, he is the seventh tallest man in history.\n",
            "\n",
            "i:3\n",
            "Sultan Kösen\n",
            "Kösen turned 40 years old on 10 December 2022. He celebrated his birthday a few days early by visiting the Ripley's Believe It or Not! museum in Orlando, Florida, USA and posing next to a life-sized statue of Robert Wadlow, the tallest man ever at 272 cm (8 ft 11.1 in).\n",
            "\n",
            "i:4\n",
            "Netherlands\n",
            "The Dutch are the tallest people in the world, by nationality, with an average height of for adult males and for adult females in 2009. The average height of young males in the Netherlands increased from 5 feet, 4 inches to approximately 6 feet between the 1850s until the early 2000s. People in the south are on average about shorter than those in the north.\n",
            "\n"
          ]
        }
      ],
      "source": [
        "for i, result in enumerate(results):\n",
        "    print(f\"i:{i}\")\n",
        "    print(result.get('title'))\n",
        "    print(result.get('text'))\n",
        "    print()"
      ]
    },
    {
      "cell_type": "code",
      "execution_count": 20,
      "metadata": {
        "id": "Iwl2c0qFibjN"
      },
      "outputs": [],
      "source": [
        "def rerank_responses(query, responses, num_responses=10):\n",
        "    reranked_responses = co.rerank(\n",
        "        model = 'rerank-english-v2.0',\n",
        "        query = query,\n",
        "        documents = responses,\n",
        "        top_n = num_responses,\n",
        "        )\n",
        "    return reranked_responses"
      ]
    },
    {
      "cell_type": "code",
      "execution_count": 21,
      "metadata": {
        "id": "T1Kusk8DilEa"
      },
      "outputs": [],
      "source": [
        "texts = [result.get('text') for result in results]\n",
        "reranked_text = rerank_responses(query_2, texts)"
      ]
    },
    {
      "cell_type": "code",
      "execution_count": 22,
      "metadata": {
        "colab": {
          "base_uri": "https://localhost:8080/"
        },
        "id": "bmSz8MNlipoJ",
        "outputId": "3cbaa5e6-2890-4e36-c8f3-8d96ccdbfd27"
      },
      "outputs": [
        {
          "name": "stdout",
          "output_type": "stream",
          "text": [
            "i:0\n",
            "RerankResult<document['text']: Robert Pershing Wadlow (February 22, 1918 July 15, 1940), also known as the Alton Giant and the Giant of Illinois, was a man who was the tallest person in recorded history for whom there is irrefutable evidence. He was born and raised in Alton, Illinois, a small city near St. Louis, Missouri., index: 0, relevance_score: 0.9734939>\n",
            "\n",
            "i:1\n",
            "RerankResult<document['text']: Sultan Kösen (born 10 December 1982) is a Turkish farmer who holds the Guinness World Record for tallest living male at . Of Kurdish ethnicity, he is the seventh tallest man in history., index: 2, relevance_score: 0.8664718>\n",
            "\n",
            "i:2\n",
            "RerankResult<document['text']: The Dutch are the tallest people in the world, by nationality, with an average height of for adult males and for adult females in 2009. The average height of young males in the Netherlands increased from 5 feet, 4 inches to approximately 6 feet between the 1850s until the early 2000s. People in the south are on average about shorter than those in the north., index: 4, relevance_score: 0.80162543>\n",
            "\n",
            "i:3\n",
            "RerankResult<document['text']: Kösen turned 40 years old on 10 December 2022. He celebrated his birthday a few days early by visiting the Ripley's Believe It or Not! museum in Orlando, Florida, USA and posing next to a life-sized statue of Robert Wadlow, the tallest man ever at 272 cm (8 ft 11.1 in)., index: 3, relevance_score: 0.6874202>\n",
            "\n",
            "i:4\n",
            "RerankResult<document['text']: Bol came from a family of extraordinarily tall men and women. He said: \"My mother was , my father , and my sister is . And my great-grandfather was even taller—.\" His ethnic group, the Dinka, and the Nilotic people of which they are a part, are among the tallest populations in the world. Bol's hometown, Turalei, is the origin of other exceptionally tall people, including basketball player Ring Ayuel. \"I was born in a village, where you cannot measure yourself,\" Bol reflected. \"I learned I was 7 foot 7 in 1979, when I was grown. I was about 18 or 19.\", index: 1, relevance_score: 0.6396235>\n",
            "\n"
          ]
        }
      ],
      "source": [
        "for i, rerank_result in enumerate(reranked_text):\n",
        "    print(f\"i:{i}\")\n",
        "    print(f\"{rerank_result}\")\n",
        "    print()"
      ]
    },
    {
      "cell_type": "markdown",
      "metadata": {
        "id": "jGwoLpwbo28p"
      },
      "source": [
        "### Generating Answers"
      ]
    },
    {
      "cell_type": "code",
      "execution_count": 23,
      "metadata": {
        "id": "rBQkGe-NisDH"
      },
      "outputs": [],
      "source": [
        "question = \"Are side projects important when you are starting to learn about AI?\""
      ]
    },
    {
      "cell_type": "code",
      "execution_count": 24,
      "metadata": {
        "id": "h3hY5asuo9G3"
      },
      "outputs": [],
      "source": [
        "text = \"\"\"\n",
        "The rapid rise of AI has led to a rapid rise in AI jobs, and many people are building exciting careers in this field. A career is a decades-long journey, and the path is not always straightforward. Over many years, I’ve been privileged to see thousands of students as well as engineers in companies large and small navigate careers in AI. In this and the next few letters, I’d like to share a few thoughts that might be useful in charting your own course.\n",
        "\n",
        "Three key steps of career growth are learning (to gain technical and other skills), working on projects (to deepen skills, build a portfolio, and create impact) and searching for a job. These steps stack on top of each other:\n",
        "\n",
        "Initially, you focus on gaining foundational technical skills.\n",
        "After having gained foundational skills, you lean into project work. During this period, you’ll probably keep learning.\n",
        "Later, you might occasionally carry out a job search. Throughout this process, you’ll probably continue to learn and work on meaningful projects.\n",
        "These phases apply in a wide range of professions, but AI involves unique elements. For example:\n",
        "\n",
        "AI is nascent, and many technologies are still evolving. While the foundations of machine learning and deep learning are maturing — and coursework is an efficient way to master them — beyond these foundations, keeping up-to-date with changing technology is more important in AI than fields that are more mature.\n",
        "Project work often means working with stakeholders who lack expertise in AI. This can make it challenging to find a suitable project, estimate the project’s timeline and return on investment, and set expectations. In addition, the highly iterative nature of AI projects leads to special challenges in project management: How can you come up with a plan for building a system when you don’t know in advance how long it will take to achieve the target accuracy? Even after the system has hit the target, further iteration may be necessary to address post-deployment drift.\n",
        "While searching for a job in AI can be similar to searching for a job in other sectors, there are some differences. Many companies are still trying to figure out which AI skills they need and how to hire people who have them. Things you’ve worked on may be significantly different than anything your interviewer has seen, and you’re more likely to have to educate potential employers about some elements of your work.\n",
        "Throughout these steps, a supportive community is a big help. Having a group of friends and allies who can help you — and whom you strive to help — makes the path easier. This is true whether you’re taking your first steps or you’ve been on the journey for years.\n",
        "\n",
        "I’m excited to work with all of you to grow the global AI community, and that includes helping everyone in our community develop their careers. I’ll dive more deeply into these topics in the next few weeks.\n",
        "\n",
        "Last week, I wrote about key steps for building a career in AI: learning technical skills, doing project work, and searching for a job, all of which is supported by being part of a community. In this letter, I’d like to dive more deeply into the first step.\n",
        "\n",
        "More papers have been published on AI than any person can read in a lifetime. So, in your efforts to learn, it’s critical to prioritize topic selection. I believe the most important topics for a technical career in machine learning are:\n",
        "\n",
        "Foundational machine learning skills. For example, it’s important to understand models such as linear regression, logistic regression, neural networks, decision trees, clustering, and anomaly detection. Beyond specific models, it’s even more important to understand the core concepts behind how and why machine learning works, such as bias/variance, cost functions, regularization, optimization algorithms, and error analysis.\n",
        "Deep learning. This has become such a large fraction of machine learning that it’s hard to excel in the field without some understanding of it! It’s valuable to know the basics of neural networks, practical skills for making them work (such as hyperparameter tuning), convolutional networks, sequence models, and transformers.\n",
        "Math relevant to machine learning. Key areas include linear algebra (vectors, matrices, and various manipulations of them) as well as probability and statistics (including discrete and continuous probability, standard probability distributions, basic rules such as independence and Bayes rule, and hypothesis testing). In addition, exploratory data analysis (EDA) — using visualizations and other methods to systematically explore a dataset — is an underrated skill. I’ve found EDA particularly useful in data-centric AI development, where analyzing errors and gaining insights can really help drive progress! Finally, a basic intuitive understanding of calculus will also help. In a previous letter, I described how the math needed to do machine learning well has been changing. For instance, although some tasks require calculus, improved automatic differentiation software makes it possible to invent and implement new neural network architectures without doing any calculus. This was almost impossible a decade ago.\n",
        "Software development. While you can get a job and make huge contributions with only machine learning modeling skills, your job opportunities will increase if you can also write good software to implement complex AI systems. These skills include programming fundamentals, data structures (especially those that relate to machine learning, such as data frames), algorithms (including those related to databases and data manipulation), software design, familiarity with Python, and familiarity with key libraries such as TensorFlow or PyTorch, and scikit-learn.\n",
        "This is a lot to learn! Even after you master everything in this list, I hope you’ll keep learning and continue to deepen your technical knowledge. I’ve known many machine learning engineers who benefitted from deeper skills in an application area such as natural language processing or computer vision, or in a technology area such as probabilistic graphical models or building scalable software systems.\n",
        "\n",
        "How do you gain these skills? There’s a lot of good content on the internet, and in theory reading dozens of web pages could work. But when the goal is deep understanding, reading disjointed web pages is inefficient because they tend to repeat each other, use inconsistent terminology (which slows you down), vary in quality, and leave gaps. That’s why a good course — in which a body of material has been organized into a coherent and logical form — is often the most time-efficient way to master a meaningful body of knowledge. When you’ve absorbed the knowledge available in courses, you can switch over to research papers and other resources.\n",
        "\n",
        "Finally, keep in mind that no one can cram everything they need to know over a weekend or even a month. Everyone I know who’s great at machine learning is a lifelong learner. In fact, given how quickly our field is changing, there’s little choice but to keep learning if you want to keep up. How can you maintain a steady pace of learning for years? I’ve written about the value of habits. If you cultivate the habit of learning a little bit every week, you can make significant progress with what feels like less effort.\n",
        "\n",
        "In the last two letters, I wrote about developing a career in AI and shared tips for gaining technical skills. This time, I’d like to discuss an important step in building a career: project work.\n",
        "\n",
        "It goes without saying that we should only work on projects that are responsible and ethical, and that benefit people. But those limits leave a large variety to choose from. I wrote previously about how to identify and scope AI projects. This and next week’s letter have a different emphasis: picking and executing projects with an eye toward career development.\n",
        "\n",
        "A fruitful career will include many projects, hopefully growing in scope, complexity, and impact over time. Thus, it is fine to start small. Use early projects to learn and gradually step up to bigger projects as your skills grow.\n",
        "\n",
        "When you’re starting out, don’t expect others to hand great ideas or resources to you on a platter. Many people start by working on small projects in their spare time. With initial successes — even small ones — under your belt, your growing skills increase your ability to come up with better ideas, and it becomes easier to persuade others to help you step up to bigger projects.\n",
        "\n",
        "What if you don’t have any project ideas? Here are a few ways to generate them:\n",
        "\n",
        "Join existing projects. If you find someone else with an idea, ask to join their project.\n",
        "Keep reading and talking to people. I come up with new ideas whenever I spend a lot of time reading, taking courses, or talking with domain experts. I’m confident that you will, too.\n",
        "Focus on an application area. Many researchers are trying to advance basic AI technology — say, by inventing the next generation of transformers or further scaling up language models — so, while this is an exciting direction, it is hard. But the variety of applications to which machine learning has not yet been applied is vast! I’m fortunate to have been able to apply neural networks to everything from autonomous helicopter flight to online advertising, partly because I jumped in when relatively few people were working on those applications. If your company or school cares about a particular application, explore the possibilities for machine learning. That can give you a first look at a potentially creative application — one where you can do unique work — that no one else has done yet.\n",
        "Develop a side hustle. Even if you have a full-time job, a fun project that may or may not develop into something bigger can stir the creative juices and strengthen bonds with collaborators. When I was a full-time professor, working on online education wasn’t part of my “job” (which was doing research and teaching classes). It was a fun hobby that I often worked on out of passion for education. My early experiences recording videos at home helped me later in working on online education in a more substantive way. Silicon Valley abounds with stories of startups that started as side projects. So long as it doesn’t create a conflict with your employer, these projects can be a stepping stone to something significant.\n",
        "Given a few project ideas, which one should you jump into? Here’s a quick checklist of factors to consider:\n",
        "\n",
        "Will the project help you grow technically? Ideally, it should be challenging enough to stretch your skills but not so hard that you have little chance of success. This will put you on a path toward mastering ever-greater technical complexity.\n",
        "Do you have good teammates to work with? If not, are there people you can discuss things with? We learn a lot from the people around us, and good collaborators will have a huge impact on your growth.\n",
        "Can it be a stepping stone? If the project is successful, will its technical complexity and/or business impact make it a meaningful stepping stone to larger projects? (If the project is bigger than those you’ve worked on before, there’s a good chance it could be such a stepping stone.)\n",
        "Finally, avoid analysis paralysis. It doesn’t make sense to spend a month deciding whether to work on a project that would take a week to complete. You'll work on multiple projects over the course of your career, so you’ll have ample opportunity to refine your thinking on what’s worthwhile. Given the huge number of possible AI projects, rather than the conventional “ready, aim, fire” approach, you can accelerate your progress with “ready, fire, aim.”\n",
        "\n",
        "\"\"\""
      ]
    },
    {
      "cell_type": "code",
      "execution_count": 26,
      "metadata": {
        "id": "cXJL49bao_zh"
      },
      "outputs": [],
      "source": [
        "# chunking\n",
        "import numpy as np\n",
        "\n",
        "# Split into a list of paragraphs\n",
        "texts = text.split('\\n\\n')\n",
        "\n",
        "# Clean up to remove empty spaces and new lines\n",
        "texts = np.array([t.strip(' \\n') for t in texts if t])"
      ]
    },
    {
      "cell_type": "code",
      "execution_count": 28,
      "metadata": {
        "colab": {
          "base_uri": "https://localhost:8080/"
        },
        "id": "LFJdG5MurP7X",
        "outputId": "71cffc33-d87c-484c-91b0-b8a5e13e30f9"
      },
      "outputs": [
        {
          "name": "stderr",
          "output_type": "stream",
          "text": [
            "default model on embed will be deprecated in the future, please specify a model in the request.\n"
          ]
        }
      ],
      "source": [
        "#embeddings\n",
        "\n",
        "co = cohere.Client(COHERE_API_KEY)\n",
        "\n",
        "# Get the embeddings\n",
        "response = co.embed(\n",
        "    texts=texts.tolist(),\n",
        ").embeddings\n"
      ]
    },
    {
      "cell_type": "code",
      "execution_count": 30,
      "metadata": {
        "colab": {
          "base_uri": "https://localhost:8080/"
        },
        "id": "ObCJnuEmraUk",
        "outputId": "6a995ddc-2708-4dc9-be49-a13e5194e2a3"
      },
      "outputs": [
        {
          "data": {
            "text/plain": [
              "True"
            ]
          },
          "execution_count": 30,
          "metadata": {},
          "output_type": "execute_result"
        }
      ],
      "source": [
        "from annoy import AnnoyIndex\n",
        "embeds = np.array(response)\n",
        "\n",
        "# Create the search index, pass the size of embedding\n",
        "search_index = AnnoyIndex(embeds.shape[1], 'angular')\n",
        "# Add all the vectors to the search index\n",
        "for i in range(len(embeds)):\n",
        "    search_index.add_item(i, embeds[i])\n",
        "\n",
        "search_index.build(10) # 10 trees\n",
        "search_index.save('test.ann')"
      ]
    },
    {
      "cell_type": "code",
      "execution_count": 31,
      "metadata": {
        "id": "pxYggF8PrmlO"
      },
      "outputs": [],
      "source": [
        "def search_andrews_article(query):\n",
        "    # Get the query's embedding\n",
        "    query_embed = co.embed(texts=[query]).embeddings\n",
        "\n",
        "    # Retrieve the nearest neighbors\n",
        "    similar_item_ids = search_index.get_nns_by_vector(query_embed[0],\n",
        "                                                    10,\n",
        "                                                  include_distances=True)\n",
        "\n",
        "    search_results = texts[similar_item_ids[0]]\n",
        "\n",
        "    return search_results"
      ]
    },
    {
      "cell_type": "code",
      "execution_count": 32,
      "metadata": {
        "colab": {
          "base_uri": "https://localhost:8080/"
        },
        "id": "etaJIQVOrtVJ",
        "outputId": "a32dae56-202f-4ec7-c657-74c6e7f0e35d"
      },
      "outputs": [
        {
          "name": "stderr",
          "output_type": "stream",
          "text": [
            "default model on embed will be deprecated in the future, please specify a model in the request.\n"
          ]
        },
        {
          "name": "stdout",
          "output_type": "stream",
          "text": [
            "Join existing projects. If you find someone else with an idea, ask to join their project.\n",
            "Keep reading and talking to people. I come up with new ideas whenever I spend a lot of time reading, taking courses, or talking with domain experts. I’m confident that you will, too.\n",
            "Focus on an application area. Many researchers are trying to advance basic AI technology — say, by inventing the next generation of transformers or further scaling up language models — so, while this is an exciting direction, it is hard. But the variety of applications to which machine learning has not yet been applied is vast! I’m fortunate to have been able to apply neural networks to everything from autonomous helicopter flight to online advertising, partly because I jumped in when relatively few people were working on those applications. If your company or school cares about a particular application, explore the possibilities for machine learning. That can give you a first look at a potentially creative application — one where you can do unique work — that no one else has done yet.\n",
            "Develop a side hustle. Even if you have a full-time job, a fun project that may or may not develop into something bigger can stir the creative juices and strengthen bonds with collaborators. When I was a full-time professor, working on online education wasn’t part of my “job” (which was doing research and teaching classes). It was a fun hobby that I often worked on out of passion for education. My early experiences recording videos at home helped me later in working on online education in a more substantive way. Silicon Valley abounds with stories of startups that started as side projects. So long as it doesn’t create a conflict with your employer, these projects can be a stepping stone to something significant.\n",
            "Given a few project ideas, which one should you jump into? Here’s a quick checklist of factors to consider:\n"
          ]
        }
      ],
      "source": [
        "results = search_andrews_article(\n",
        "    \"Are side projects a good idea when trying to build a career in AI?\"\n",
        ")\n",
        "\n",
        "print(results[0])"
      ]
    },
    {
      "cell_type": "code",
      "execution_count": 33,
      "metadata": {
        "id": "kT2lmrUZrvxx"
      },
      "outputs": [],
      "source": [
        "def ask_andrews_article(question, num_generations=1):\n",
        "\n",
        "    # Search the text archive\n",
        "    results = search_andrews_article(question)\n",
        "\n",
        "    # Get the top result\n",
        "    context = results[0]\n",
        "\n",
        "    # Prepare the prompt\n",
        "    prompt = f\"\"\"\n",
        "    Excerpt from the article titled \"How to Build a Career in AI\"\n",
        "    by Andrew Ng:\n",
        "    {context}\n",
        "    Question: {question}\n",
        "\n",
        "    Extract the answer of the question from the text provided.\n",
        "    If the text doesn't contain the answer,\n",
        "    reply that the answer is not available.\"\"\"\n",
        "\n",
        "    prediction = co.generate(\n",
        "        prompt=prompt,\n",
        "        max_tokens=70,\n",
        "        model=\"command-nightly\",\n",
        "        temperature=0.5,\n",
        "        num_generations=num_generations\n",
        "    )\n",
        "\n",
        "    return prediction.generations"
      ]
    },
    {
      "cell_type": "code",
      "execution_count": 34,
      "metadata": {
        "colab": {
          "base_uri": "https://localhost:8080/"
        },
        "id": "b0vDmz2RsCIT",
        "outputId": "b88e2e1f-294e-422d-a745-23ec9be410f0"
      },
      "outputs": [
        {
          "name": "stderr",
          "output_type": "stream",
          "text": [
            "default model on embed will be deprecated in the future, please specify a model in the request.\n"
          ]
        },
        {
          "name": "stdout",
          "output_type": "stream",
          "text": [
            "Side projects can be a great stepping stone to something significant and an excellent way to explore an application area and its potential, especially when it's an area that is not yet explored by many people. It can give an early look at creative applications and help stir the creative juices. \n",
            "\n",
            "Thus, side projects are a good idea when trying to build a\n"
          ]
        }
      ],
      "source": [
        "results = ask_andrews_article(\n",
        "    \"Are side projects a good idea when trying to build a career in AI?\",\n",
        "\n",
        ")\n",
        "\n",
        "print(results[0])"
      ]
    },
    {
      "cell_type": "code",
      "execution_count": null,
      "metadata": {
        "id": "NxNifAfGsIKN"
      },
      "outputs": [],
      "source": []
    }
  ],
  "metadata": {
    "colab": {
      "provenance": []
    },
    "kernelspec": {
      "display_name": "Python 3",
      "name": "python3"
    },
    "language_info": {
      "codemirror_mode": {
        "name": "ipython",
        "version": 3
      },
      "file_extension": ".py",
      "mimetype": "text/x-python",
      "name": "python",
      "nbconvert_exporter": "python",
      "pygments_lexer": "ipython3",
      "version": "3.10.3"
    }
  },
  "nbformat": 4,
  "nbformat_minor": 0
}
